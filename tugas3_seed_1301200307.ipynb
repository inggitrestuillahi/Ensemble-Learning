{
  "cells": [
    {
      "cell_type": "markdown",
      "metadata": {
        "id": "view-in-github",
        "colab_type": "text"
      },
      "source": [
        "<a href=\"https://colab.research.google.com/github/inggitrestuillahi/Ensemble-Learning/blob/main/tugas3_seed_1301200307.ipynb\" target=\"_parent\"><img src=\"https://colab.research.google.com/assets/colab-badge.svg\" alt=\"Open In Colab\"/></a>"
      ]
    },
    {
      "cell_type": "code",
      "source": [
        "!gdown '1w83l0drLxWM-58Y4G1ymhi41Jz1G91uK'"
      ],
      "metadata": {
        "colab": {
          "base_uri": "https://localhost:8080/"
        },
        "id": "P5L_dYPjp0NG",
        "outputId": "492d2e06-c0f6-4a63-ba92-b33935bb75c1"
      },
      "execution_count": null,
      "outputs": [
        {
          "output_type": "stream",
          "name": "stdout",
          "text": [
            "Downloading...\n",
            "From: https://drive.google.com/uc?id=1w83l0drLxWM-58Y4G1ymhi41Jz1G91uK\n",
            "To: /content/seeds_dataset.csv\n",
            "\r  0% 0.00/9.37k [00:00<?, ?B/s]\r100% 9.37k/9.37k [00:00<00:00, 9.12MB/s]\n"
          ]
        }
      ]
    },
    {
      "cell_type": "code",
      "execution_count": null,
      "metadata": {
        "colab": {
          "base_uri": "https://localhost:8080/"
        },
        "id": "Y4R97Lxkpvsv",
        "outputId": "fd684053-c274-41cf-f6bb-182de32e0026"
      },
      "outputs": [
        {
          "output_type": "stream",
          "name": "stdout",
          "text": [
            "Looking in indexes: https://pypi.org/simple, https://us-python.pkg.dev/colab-wheels/public/simple/\n",
            "Requirement already satisfied: pandas in /usr/local/lib/python3.8/dist-packages (1.3.5)\n",
            "Requirement already satisfied: python-dateutil>=2.7.3 in /usr/local/lib/python3.8/dist-packages (from pandas) (2.8.2)\n",
            "Requirement already satisfied: pytz>=2017.3 in /usr/local/lib/python3.8/dist-packages (from pandas) (2022.6)\n",
            "Requirement already satisfied: numpy>=1.17.3 in /usr/local/lib/python3.8/dist-packages (from pandas) (1.21.6)\n",
            "Requirement already satisfied: six>=1.5 in /usr/local/lib/python3.8/dist-packages (from python-dateutil>=2.7.3->pandas) (1.15.0)\n",
            "Looking in indexes: https://pypi.org/simple, https://us-python.pkg.dev/colab-wheels/public/simple/\n",
            "Requirement already satisfied: scikit-learn in /usr/local/lib/python3.8/dist-packages (1.0.2)\n",
            "Requirement already satisfied: joblib>=0.11 in /usr/local/lib/python3.8/dist-packages (from scikit-learn) (1.2.0)\n",
            "Requirement already satisfied: threadpoolctl>=2.0.0 in /usr/local/lib/python3.8/dist-packages (from scikit-learn) (3.1.0)\n",
            "Requirement already satisfied: scipy>=1.1.0 in /usr/local/lib/python3.8/dist-packages (from scikit-learn) (1.7.3)\n",
            "Requirement already satisfied: numpy>=1.14.6 in /usr/local/lib/python3.8/dist-packages (from scikit-learn) (1.21.6)\n",
            "Looking in indexes: https://pypi.org/simple, https://us-python.pkg.dev/colab-wheels/public/simple/\n",
            "Requirement already satisfied: graphviz in /usr/local/lib/python3.8/dist-packages (0.10.1)\n"
          ]
        }
      ],
      "source": [
        "!pip install pandas\n",
        "!pip install scikit-learn\n",
        "!pip install graphviz"
      ]
    },
    {
      "cell_type": "code",
      "execution_count": null,
      "metadata": {
        "id": "GuW_0KOJpvsy"
      },
      "outputs": [],
      "source": [
        "## Isi nama dan NIM seluruh anggota kelompok di sini\n",
        "#   Nama                        NIM\n",
        "#   Adhyasta Naufal Faadhilah   1301200321\n",
        "#   Fikri Maulana               1301200239\n",
        "#   Inggit Restu Illahi         1301204446\n",
        "#   Rangga Eka Permana          1301200307"
      ]
    },
    {
      "cell_type": "code",
      "execution_count": null,
      "metadata": {
        "id": "NeW29A3Tpvsy"
      },
      "outputs": [],
      "source": [
        "import numpy as np\n",
        "import pandas as pd\n",
        "from sklearn.model_selection import train_test_split\n",
        "from sklearn import tree"
      ]
    },
    {
      "cell_type": "markdown",
      "metadata": {
        "id": "rnPTHNuNpvsz"
      },
      "source": [
        "# Load Dataset\n",
        "Inisialisasi variable, masukan NIM di sini untuk random state.\n",
        "\n",
        "Gunakan NIM salah satu anggota kelompok.\n",
        "\n"
      ]
    },
    {
      "cell_type": "code",
      "execution_count": null,
      "metadata": {
        "id": "4FwJB9yCpvs1"
      },
      "outputs": [],
      "source": [
        "filepath = \"seeds_dataset.csv\"\n",
        "dot_filename = 'tree.dot'\n",
        "# 1301200307\n",
        "nim = 1301200307"
      ]
    },
    {
      "cell_type": "markdown",
      "metadata": {
        "id": "3OULXZvkpvs1"
      },
      "source": [
        "Load dataset, cek konten data\n",
        "\n",
        "Target kelas: **Category** "
      ]
    },
    {
      "cell_type": "code",
      "execution_count": null,
      "metadata": {
        "colab": {
          "base_uri": "https://localhost:8080/",
          "height": 363
        },
        "id": "xm66Xe8Bpvs2",
        "outputId": "af744fe3-4cdd-41ff-d595-4a2e6df088b3"
      },
      "outputs": [
        {
          "output_type": "execute_result",
          "data": {
            "text/plain": [
              "      Area  Perimeter  Compactness  Kernel_len  Kernel_width  Assymetry  \\\n",
              "77   20.71      17.23       0.8763       6.579         3.814      4.451   \n",
              "70   17.63      15.98       0.8673       6.191         3.561      4.076   \n",
              "63   13.22      13.84       0.8680       5.395         3.070      4.157   \n",
              "28   14.11      14.18       0.8820       5.541         3.221      2.754   \n",
              "132  15.38      14.90       0.8706       5.884         3.268      4.462   \n",
              "134  15.56      14.89       0.8823       5.776         3.408      4.972   \n",
              "144  11.82      13.40       0.8274       5.314         2.777      4.471   \n",
              "182  12.19      13.36       0.8579       5.240         2.909      4.857   \n",
              "13   13.78      14.06       0.8759       5.479         3.156      3.136   \n",
              "82   20.20      16.89       0.8894       6.285         3.864      5.173   \n",
              "\n",
              "     Groove_len  Category  \n",
              "77        6.451         2  \n",
              "70        6.060         2  \n",
              "63        5.088         1  \n",
              "28        5.038         1  \n",
              "132       5.795         2  \n",
              "134       5.847         2  \n",
              "144       5.178         3  \n",
              "182       5.158         3  \n",
              "13        4.872         1  \n",
              "82        6.187         2  "
            ],
            "text/html": [
              "\n",
              "  <div id=\"df-caa9089c-bdda-4f05-8d21-d60a57f64221\">\n",
              "    <div class=\"colab-df-container\">\n",
              "      <div>\n",
              "<style scoped>\n",
              "    .dataframe tbody tr th:only-of-type {\n",
              "        vertical-align: middle;\n",
              "    }\n",
              "\n",
              "    .dataframe tbody tr th {\n",
              "        vertical-align: top;\n",
              "    }\n",
              "\n",
              "    .dataframe thead th {\n",
              "        text-align: right;\n",
              "    }\n",
              "</style>\n",
              "<table border=\"1\" class=\"dataframe\">\n",
              "  <thead>\n",
              "    <tr style=\"text-align: right;\">\n",
              "      <th></th>\n",
              "      <th>Area</th>\n",
              "      <th>Perimeter</th>\n",
              "      <th>Compactness</th>\n",
              "      <th>Kernel_len</th>\n",
              "      <th>Kernel_width</th>\n",
              "      <th>Assymetry</th>\n",
              "      <th>Groove_len</th>\n",
              "      <th>Category</th>\n",
              "    </tr>\n",
              "  </thead>\n",
              "  <tbody>\n",
              "    <tr>\n",
              "      <th>77</th>\n",
              "      <td>20.71</td>\n",
              "      <td>17.23</td>\n",
              "      <td>0.8763</td>\n",
              "      <td>6.579</td>\n",
              "      <td>3.814</td>\n",
              "      <td>4.451</td>\n",
              "      <td>6.451</td>\n",
              "      <td>2</td>\n",
              "    </tr>\n",
              "    <tr>\n",
              "      <th>70</th>\n",
              "      <td>17.63</td>\n",
              "      <td>15.98</td>\n",
              "      <td>0.8673</td>\n",
              "      <td>6.191</td>\n",
              "      <td>3.561</td>\n",
              "      <td>4.076</td>\n",
              "      <td>6.060</td>\n",
              "      <td>2</td>\n",
              "    </tr>\n",
              "    <tr>\n",
              "      <th>63</th>\n",
              "      <td>13.22</td>\n",
              "      <td>13.84</td>\n",
              "      <td>0.8680</td>\n",
              "      <td>5.395</td>\n",
              "      <td>3.070</td>\n",
              "      <td>4.157</td>\n",
              "      <td>5.088</td>\n",
              "      <td>1</td>\n",
              "    </tr>\n",
              "    <tr>\n",
              "      <th>28</th>\n",
              "      <td>14.11</td>\n",
              "      <td>14.18</td>\n",
              "      <td>0.8820</td>\n",
              "      <td>5.541</td>\n",
              "      <td>3.221</td>\n",
              "      <td>2.754</td>\n",
              "      <td>5.038</td>\n",
              "      <td>1</td>\n",
              "    </tr>\n",
              "    <tr>\n",
              "      <th>132</th>\n",
              "      <td>15.38</td>\n",
              "      <td>14.90</td>\n",
              "      <td>0.8706</td>\n",
              "      <td>5.884</td>\n",
              "      <td>3.268</td>\n",
              "      <td>4.462</td>\n",
              "      <td>5.795</td>\n",
              "      <td>2</td>\n",
              "    </tr>\n",
              "    <tr>\n",
              "      <th>134</th>\n",
              "      <td>15.56</td>\n",
              "      <td>14.89</td>\n",
              "      <td>0.8823</td>\n",
              "      <td>5.776</td>\n",
              "      <td>3.408</td>\n",
              "      <td>4.972</td>\n",
              "      <td>5.847</td>\n",
              "      <td>2</td>\n",
              "    </tr>\n",
              "    <tr>\n",
              "      <th>144</th>\n",
              "      <td>11.82</td>\n",
              "      <td>13.40</td>\n",
              "      <td>0.8274</td>\n",
              "      <td>5.314</td>\n",
              "      <td>2.777</td>\n",
              "      <td>4.471</td>\n",
              "      <td>5.178</td>\n",
              "      <td>3</td>\n",
              "    </tr>\n",
              "    <tr>\n",
              "      <th>182</th>\n",
              "      <td>12.19</td>\n",
              "      <td>13.36</td>\n",
              "      <td>0.8579</td>\n",
              "      <td>5.240</td>\n",
              "      <td>2.909</td>\n",
              "      <td>4.857</td>\n",
              "      <td>5.158</td>\n",
              "      <td>3</td>\n",
              "    </tr>\n",
              "    <tr>\n",
              "      <th>13</th>\n",
              "      <td>13.78</td>\n",
              "      <td>14.06</td>\n",
              "      <td>0.8759</td>\n",
              "      <td>5.479</td>\n",
              "      <td>3.156</td>\n",
              "      <td>3.136</td>\n",
              "      <td>4.872</td>\n",
              "      <td>1</td>\n",
              "    </tr>\n",
              "    <tr>\n",
              "      <th>82</th>\n",
              "      <td>20.20</td>\n",
              "      <td>16.89</td>\n",
              "      <td>0.8894</td>\n",
              "      <td>6.285</td>\n",
              "      <td>3.864</td>\n",
              "      <td>5.173</td>\n",
              "      <td>6.187</td>\n",
              "      <td>2</td>\n",
              "    </tr>\n",
              "  </tbody>\n",
              "</table>\n",
              "</div>\n",
              "      <button class=\"colab-df-convert\" onclick=\"convertToInteractive('df-caa9089c-bdda-4f05-8d21-d60a57f64221')\"\n",
              "              title=\"Convert this dataframe to an interactive table.\"\n",
              "              style=\"display:none;\">\n",
              "        \n",
              "  <svg xmlns=\"http://www.w3.org/2000/svg\" height=\"24px\"viewBox=\"0 0 24 24\"\n",
              "       width=\"24px\">\n",
              "    <path d=\"M0 0h24v24H0V0z\" fill=\"none\"/>\n",
              "    <path d=\"M18.56 5.44l.94 2.06.94-2.06 2.06-.94-2.06-.94-.94-2.06-.94 2.06-2.06.94zm-11 1L8.5 8.5l.94-2.06 2.06-.94-2.06-.94L8.5 2.5l-.94 2.06-2.06.94zm10 10l.94 2.06.94-2.06 2.06-.94-2.06-.94-.94-2.06-.94 2.06-2.06.94z\"/><path d=\"M17.41 7.96l-1.37-1.37c-.4-.4-.92-.59-1.43-.59-.52 0-1.04.2-1.43.59L10.3 9.45l-7.72 7.72c-.78.78-.78 2.05 0 2.83L4 21.41c.39.39.9.59 1.41.59.51 0 1.02-.2 1.41-.59l7.78-7.78 2.81-2.81c.8-.78.8-2.07 0-2.86zM5.41 20L4 18.59l7.72-7.72 1.47 1.35L5.41 20z\"/>\n",
              "  </svg>\n",
              "      </button>\n",
              "      \n",
              "  <style>\n",
              "    .colab-df-container {\n",
              "      display:flex;\n",
              "      flex-wrap:wrap;\n",
              "      gap: 12px;\n",
              "    }\n",
              "\n",
              "    .colab-df-convert {\n",
              "      background-color: #E8F0FE;\n",
              "      border: none;\n",
              "      border-radius: 50%;\n",
              "      cursor: pointer;\n",
              "      display: none;\n",
              "      fill: #1967D2;\n",
              "      height: 32px;\n",
              "      padding: 0 0 0 0;\n",
              "      width: 32px;\n",
              "    }\n",
              "\n",
              "    .colab-df-convert:hover {\n",
              "      background-color: #E2EBFA;\n",
              "      box-shadow: 0px 1px 2px rgba(60, 64, 67, 0.3), 0px 1px 3px 1px rgba(60, 64, 67, 0.15);\n",
              "      fill: #174EA6;\n",
              "    }\n",
              "\n",
              "    [theme=dark] .colab-df-convert {\n",
              "      background-color: #3B4455;\n",
              "      fill: #D2E3FC;\n",
              "    }\n",
              "\n",
              "    [theme=dark] .colab-df-convert:hover {\n",
              "      background-color: #434B5C;\n",
              "      box-shadow: 0px 1px 3px 1px rgba(0, 0, 0, 0.15);\n",
              "      filter: drop-shadow(0px 1px 2px rgba(0, 0, 0, 0.3));\n",
              "      fill: #FFFFFF;\n",
              "    }\n",
              "  </style>\n",
              "\n",
              "      <script>\n",
              "        const buttonEl =\n",
              "          document.querySelector('#df-caa9089c-bdda-4f05-8d21-d60a57f64221 button.colab-df-convert');\n",
              "        buttonEl.style.display =\n",
              "          google.colab.kernel.accessAllowed ? 'block' : 'none';\n",
              "\n",
              "        async function convertToInteractive(key) {\n",
              "          const element = document.querySelector('#df-caa9089c-bdda-4f05-8d21-d60a57f64221');\n",
              "          const dataTable =\n",
              "            await google.colab.kernel.invokeFunction('convertToInteractive',\n",
              "                                                     [key], {});\n",
              "          if (!dataTable) return;\n",
              "\n",
              "          const docLinkHtml = 'Like what you see? Visit the ' +\n",
              "            '<a target=\"_blank\" href=https://colab.research.google.com/notebooks/data_table.ipynb>data table notebook</a>'\n",
              "            + ' to learn more about interactive tables.';\n",
              "          element.innerHTML = '';\n",
              "          dataTable['output_type'] = 'display_data';\n",
              "          await google.colab.output.renderOutput(dataTable, element);\n",
              "          const docLink = document.createElement('div');\n",
              "          docLink.innerHTML = docLinkHtml;\n",
              "          element.appendChild(docLink);\n",
              "        }\n",
              "      </script>\n",
              "    </div>\n",
              "  </div>\n",
              "  "
            ]
          },
          "metadata": {},
          "execution_count": 44
        }
      ],
      "source": [
        "df = pd.read_csv(filepath, sep=\"\\t\")\n",
        "df.sample(10, random_state=nim)"
      ]
    },
    {
      "cell_type": "markdown",
      "metadata": {
        "id": "4PTgUjR5pvs2"
      },
      "source": [
        "Training/test split **60/40**"
      ]
    },
    {
      "cell_type": "code",
      "execution_count": null,
      "metadata": {
        "colab": {
          "base_uri": "https://localhost:8080/"
        },
        "id": "a99hXzH3pvs3",
        "outputId": "555c9ec1-327f-44f2-8574-631065253ded"
      },
      "outputs": [
        {
          "output_type": "execute_result",
          "data": {
            "text/plain": [
              "(126, 84)"
            ]
          },
          "metadata": {},
          "execution_count": 45
        }
      ],
      "source": [
        "# X: semua kolom, Y: kolom terakhir (category)\n",
        "x = df.iloc[:, 0:-1]\n",
        "y = df.iloc[:, -1]\n",
        "x_train, x_test, y_train, y_test = train_test_split(x, y, train_size = 0.6, random_state = nim)\n",
        "\n",
        "# We perform bootstrap on the train data\n",
        "# Keep test data for final accuracy testing\n",
        "len(x_train), len(x_test)"
      ]
    },
    {
      "cell_type": "markdown",
      "metadata": {
        "id": "yuD2A1XLpvs4"
      },
      "source": [
        "# Random Forest\n",
        "Build a Random Forest, consisting of 20 Decision Tree classifer, with the following steps:\n",
        "\n",
        "1. Prepare Bootstrap data (choose randomly from the *training data*, use sampling with replacement)\n",
        "2. Choose 2-4 random features/atributes for each tree\n",
        "3. Build Decision Tree classifier using step (1) and (2)\n",
        "4. Calculate OOB score within the tree only\n",
        "\n",
        "**NOTE**\n",
        "This whole exercise has been simplified.\n",
        "- Tree can be created using a library, therefore you may not be able control the feature selection on node level\n",
        "- Random features are only selected in the beginning of each tree.\n",
        "- OOB score is only calculated within its own tree instead.\n",
        "- Typically Random Forest don't use train/test split and can be validated using OOB error. We simplify this to make it easier to test.\n",
        "- You are not allowed to use a Random Forest or Bagging library.\n"
      ]
    },
    {
      "cell_type": "code",
      "execution_count": null,
      "metadata": {
        "id": "S1MNGxg_pvs4",
        "colab": {
          "base_uri": "https://localhost:8080/"
        },
        "outputId": "cabae452-6364-4702-e131-9f8f29f87e4a"
      },
      "outputs": [
        {
          "output_type": "stream",
          "name": "stdout",
          "text": [
            "['Perimeter' 'Compactness'] 0.7647058823529411\n",
            "['Kernel_width' 'Groove_len'] 0.8723404255319149\n",
            "['Kernel_len' 'Groove_len' 'Area'] 0.9375\n",
            "['Kernel_width' 'Compactness'] 0.7954545454545454\n",
            "['Assymetry' 'Kernel_len' 'Kernel_width'] 0.9361702127659575\n",
            "['Perimeter' 'Compactness'] 0.7272727272727273\n",
            "['Assymetry' 'Kernel_len' 'Kernel_width'] 0.9069767441860465\n",
            "['Kernel_width' 'Assymetry'] 0.8571428571428571\n",
            "['Compactness' 'Groove_len' 'Assymetry'] 0.8\n",
            "['Groove_len' 'Kernel_len'] 0.9318181818181818\n",
            "['Area' 'Kernel_width'] 0.775\n",
            "['Assymetry' 'Perimeter' 'Groove_len'] 0.8780487804878049\n",
            "['Kernel_width' 'Assymetry' 'Compactness'] 0.7636363636363637\n",
            "['Compactness' 'Kernel_width'] 0.7674418604651163\n",
            "['Kernel_len' 'Kernel_width'] 0.7674418604651163\n",
            "['Kernel_len' 'Groove_len' 'Area'] 0.8333333333333334\n",
            "['Kernel_len' 'Groove_len' 'Perimeter'] 0.9130434782608695\n",
            "['Compactness' 'Kernel_width'] 0.717391304347826\n",
            "['Perimeter' 'Assymetry' 'Kernel_len'] 0.8085106382978723\n",
            "['Kernel_len' 'Groove_len' 'Compactness'] 0.76\n"
          ]
        }
      ],
      "source": [
        "np.random.seed(nim)\n",
        "n_tree = 20\n",
        "\n",
        "forest = []\n",
        "bootstrap_columns = []\n",
        "\n",
        "# Iterate over the desired number of trees\n",
        "for i in range(n_tree):\n",
        "    # Select a random subset of the training data to use as the bootstrapped dataset for this tree\n",
        "    rows = np.random.choice(len(x_train), len(x_train), replace=True)\n",
        "    x_bootstrap = x_train.iloc[rows]\n",
        "    y_bootstrap = y_train.iloc[rows]\n",
        "    \n",
        "    # Out of Bag data\n",
        "    non_selected_rows = np.setdiff1d(np.arange(len(x_train)), rows)\n",
        "    x_oob = x_train.iloc[non_selected_rows]\n",
        "    y_oob = y_train.iloc[non_selected_rows]\n",
        "    \n",
        "    # Select a random subset of the features/attributes to use as the candidates for splitting nodes in this tree\n",
        "    # Check for any repeated combinations\n",
        "    feature_taken = np.random.randint(2, 4)\n",
        "    cols = np.random.choice(x_bootstrap.columns, feature_taken, replace=False)\n",
        "    bootstrap_columns.append(cols)\n",
        "    \n",
        "    # Filter the bootstrapped dataset based on the selected columns\n",
        "    x_bootstrap = x_bootstrap[cols]\n",
        "\n",
        "    # Build a decision tree classifier using the bootstrapped dataset and the selected features\n",
        "    tree_model = tree.DecisionTreeClassifier(random_state=nim)\n",
        "    tree_model.fit(x_bootstrap, y_bootstrap)\n",
        "\n",
        "\n",
        "    # Add it to the forest\n",
        "    forest.append(tree_model)\n",
        "    \n",
        "    # Calculate the \"out-of-bag\" (OOB) score for this tree using the non-selected rows from the bootstrapped dataset as the test set and the predictions from the tree as the predicted labels\n",
        "    oob_score = tree_model.score(x_oob[cols], y_oob)\n",
        "    print(f\"{cols}\" ,oob_score)\n"
      ]
    },
    {
      "cell_type": "markdown",
      "metadata": {
        "id": "RBkbxuInpvs5"
      },
      "source": [
        "# Prediction and Voting\n",
        "Run prediction on x_test data for each tree\n",
        "\n",
        "Also calculate accuracy per tree here"
      ]
    },
    {
      "cell_type": "code",
      "execution_count": null,
      "metadata": {
        "id": "sSyhi9uApvs5"
      },
      "outputs": [],
      "source": [
        "all_preds = []\n",
        "for i, tree_model in enumerate(forest):\n",
        "    # Each tree has different column requirements\n",
        "    # Make sure you use the correct columns for each tree\n",
        "    x_test_filtered = x_test[bootstrap_columns[i]]\n",
        "\n",
        "    predictions = tree_model.predict(x_test_filtered)\n",
        "\n",
        "    # Might as well calculate accuracy per tree here...\n",
        "    acc = (predictions == y_test).mean()\n",
        "\n",
        "    # add it to all_preds for voting later\n",
        "    all_preds.append(predictions)\n",
        "\n",
        "all_preds = np.array(all_preds)"
      ]
    },
    {
      "cell_type": "markdown",
      "metadata": {
        "id": "uvd0uRvwpvs6"
      },
      "source": [
        "### Perform voting on the predictions from the Random Forest"
      ]
    },
    {
      "cell_type": "markdown",
      "source": [
        "all_preds = []\n",
        "for i, tree_model in enumerate(forest):\n",
        "    # Each tree has different column requirements\n",
        "    # Make sure you use the correct columns for each tree\n",
        "    x_test_filtered = x_test[bootstrap_columns[i]]\n",
        "\n",
        "    predictions = tree_model.predict(x_test_filtered)\n",
        "\n",
        "    # Might as well calculate accuracy per tree here...\n",
        "\n",
        "    acc = (predictions == y_test).mean()\n",
        "    print(f'{bootstrap_columns[i]} : {acc}')\n",
        "\n",
        "    # add it to all_preds for voting later\n",
        "    all_preds.append(predictions)\n",
        "\n",
        "all_preds = np.array(all_preds)"
      ],
      "metadata": {
        "id": "RVYsUloppvs6"
      }
    },
    {
      "cell_type": "markdown",
      "source": [],
      "metadata": {
        "id": "Jry3T6QnzH75"
      }
    }
  ],
  "metadata": {
    "kernelspec": {
      "display_name": "Python 3.10.8 ('tugas3')",
      "language": "python",
      "name": "python3"
    },
    "language_info": {
      "codemirror_mode": {
        "name": "ipython",
        "version": 3
      },
      "file_extension": ".py",
      "mimetype": "text/x-python",
      "name": "python",
      "nbconvert_exporter": "python",
      "pygments_lexer": "ipython3",
      "version": "3.10.8"
    },
    "orig_nbformat": 4,
    "vscode": {
      "interpreter": {
        "hash": "486ee4d26de12a9ebc4c044e4309648e10037d9316726c9d112e2ad4a1fad8b4"
      }
    },
    "colab": {
      "provenance": [],
      "include_colab_link": true
    }
  },
  "nbformat": 4,
  "nbformat_minor": 0
}